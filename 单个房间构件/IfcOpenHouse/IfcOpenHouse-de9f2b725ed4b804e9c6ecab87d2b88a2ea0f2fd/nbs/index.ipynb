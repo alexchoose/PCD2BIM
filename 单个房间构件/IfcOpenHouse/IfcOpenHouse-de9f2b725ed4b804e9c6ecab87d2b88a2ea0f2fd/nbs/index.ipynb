{
 "cells": [
  {
   "cell_type": "markdown",
   "metadata": {},
   "source": [
    "# IfcOpenHouse\n",
    "\n",
    "> Recreation of the original IfcOpenHouse with the IfcOpenShell Python API"
   ]
  },
  {
   "cell_type": "markdown",
   "metadata": {},
   "source": [
    "More than 10 years ago, the original IfcOpenHouse 🏠 was created by [Thomas Krijnen](https://github.com/aothms) by using the [IfcOpenShell library](https://ifcopenshell.org/) 🐚. It consists of a single story building with a gable roof, sitting on top of a NURBS surface ⛰️. It includes a footing 🦶, walls 🧱🧱 with openings 🕳️ for doors 🚪 and windows 🪟, a roof 🛖... but above all, it gives an overview about how to programmatically build a simple IFC model from scratch 👩🏽‍💻."
   ]
  },
  {
   "cell_type": "markdown",
   "metadata": {},
   "source": [
    "Navigate through the following preview for yourself. Double click 🖱️ an element to gather entity info from the underlying IFC:\n",
    "\n",
    "```{=html}\n",
    "<!-- This is where a canvas with an IFC.js visualisation of the model\n",
    "    will be placed within the Quarto website -->\n",
    "<div class=\"info-panel hidden\" id=\"id-info-div\">\n",
    "    <p class=\"info\" id=\"id-info-p\"></p>\n",
    "</div>\n",
    "<div id=\"ifcjs-container\">\n",
    "</div>\n",
    "```"
   ]
  },
  {
   "cell_type": "markdown",
   "metadata": {},
   "source": [
    "\\\n",
    "Check out the original blog post, as well as the C++ source if interested:\n",
    "\n",
    "[http://blog.ifcopenshell.org/2012/11/say-hi-to-ifcopenhouse.html](http://blog.ifcopenshell.org/2012/11/say-hi-to-ifcopenhouse.html)\n",
    "\n",
    "[https://github.com/IfcOpenShell/IfcOpenShell/blob/master/src/examples/IfcOpenHouse.cpp](https://github.com/IfcOpenShell/IfcOpenShell/blob/master/src/examples/IfcOpenHouse.cpp)\n",
    "\n",
    "The current repository is an exercise to recreate that same model, but with the recent higher level [IfcOpenShell Python API](https://blenderbim.org/docs-python/autoapi/index.html) 🐚🐍. This same API is widely used today in the native IFC editing approach followed by BIM authoring software like [BlenderBIM](https://blenderbim.org/) and [FreeCAD](https://www.freecad.org/), among others. At the end, there's also a visualization cell with [IFC.js](https://ifcjs.github.io/info/), the BIM toolkit 🛠️ for JavaScript.\n",
    "\n",
    "It is a basic tutorial, but some basic IFC and Python knowledge is required, as well as some basic trigonometry for the sizes and coordinates 👩‍🎓. One of the goals is to show how powerful Jupyter 🪐 Notebooks 📒 can be 💪 as an experimentation playground. Note that this notebook uses [nbdev directives](https://nbdev.fast.ai/explanations/directives.html) to automate the production of a script and a Quarto website, as well as helping with [Git-friendly Jupyter](https://nbdev.fast.ai/tutorials/git_friendly_jupyter.html)."
   ]
  },
  {
   "cell_type": "markdown",
   "metadata": {},
   "source": [
    "## Getting started / local installation"
   ]
  },
  {
   "cell_type": "markdown",
   "metadata": {},
   "source": [
    "These set of notebooks 📒 may be conveniently browsed through their Quarto website 🌎, or alternatively be run on your own end by cloning the repository. For the former, refer to the following section. For the latter, follow these installation instructions 📝.\n",
    "\n",
    "You'll need [Mambaforge](https://github.com/conda-forge/miniforge#mambaforge) 🐍 installed in case you don't have it already. Then, you may run the following commands to clone the repository and install all necessary dependencies ✅."
   ]
  },
  {
   "cell_type": "markdown",
   "metadata": {},
   "source": [
    "```sh\n",
    "git clone https://github.com/cvillagrasa/IfcOpenHouse.git\n",
    "mamba env create --file environment.yml\n",
    "conda activate IfcOpenHouse\n",
    "pip install -e .\n",
    "```"
   ]
  },
  {
   "cell_type": "markdown",
   "metadata": {},
   "source": [
    "Using the editable flag `-e`, you will be able to use any further changes you make to the notebooks and/or Python modules immediately."
   ]
  },
  {
   "cell_type": "markdown",
   "metadata": {},
   "source": [
    "As an extra step, use dark mode 🕵️‍♂️ if you wish (see [jupyter-themes](https://github.com/dunovank/jupyter-themes#user-content-command-line-examples) for more info):"
   ]
  },
  {
   "cell_type": "markdown",
   "metadata": {},
   "source": [
    "```sh\n",
    "jt -t chesterish -T -N -kl\n",
    "```"
   ]
  },
  {
   "cell_type": "markdown",
   "metadata": {},
   "source": [
    "You may now launch the Jupyter 🪐 Notebook 📒 dashboard:"
   ]
  },
  {
   "cell_type": "markdown",
   "metadata": {},
   "source": [
    "```bash\n",
    "jupyter notebook\n",
    "```"
   ]
  },
  {
   "cell_type": "markdown",
   "metadata": {},
   "source": [
    "And that's it! you are now ready to locally open the notebook `nbs/00_generation.ipynb` and start having fun 🥳."
   ]
  },
  {
   "cell_type": "markdown",
   "metadata": {},
   "source": [
    "Lastly, you may also want to edit the JavaScript code 👩🏽‍💻 for the model preview by running `npm i` from the `viz` directory, and regenerating the bundle with `npm run build_nb`."
   ]
  },
  {
   "cell_type": "markdown",
   "metadata": {},
   "source": [
    "## Step-by-step tutorial / online"
   ]
  },
  {
   "cell_type": "markdown",
   "metadata": {},
   "source": [
    "Alternatively, you may just start by browsing the contents firstly, and perhaps attempt to run it locally later. Just go to [generation](00_generation.ipynb) and you'll find an IfcOpenHouse generation online walkthrough 🚀🚀🚀."
   ]
  },
  {
   "cell_type": "code",
   "execution_count": null,
   "metadata": {},
   "outputs": [],
   "source": []
  }
 ],
 "metadata": {
  "kernelspec": {
   "display_name": "python3",
   "language": "python",
   "name": "python3"
  }
 },
 "nbformat": 4,
 "nbformat_minor": 4
}
